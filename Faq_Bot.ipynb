{
 "cells": [
  {
   "cell_type": "code",
   "execution_count": 1,
   "id": "4b7ae1e9-1b93-45b0-87fc-7d8e0b881c99",
   "metadata": {},
   "outputs": [],
   "source": [
    "college_admission_context = \"\"\"\n",
    "\n",
    "SASTRA University offers various undergraduate, postgraduate, and doctoral programs in Engineering, Science, Management, Law, and Arts. \n",
    "Admissions for B.Tech programs are based on JEE Main scores and +2 marks. The application process opens in April and closes by the end of May. \n",
    "There is no entrance exam conducted by SASTRA University for B.Tech. Admission is based on JEE Main and board exam marks. The merit list is prepared with a 50:50 weightage for JEE Main and board marks.\n",
    "\n",
    "For non-B.Tech programs, admissions are based on academic performance and personal interviews. Applications can be submitted online through the university's portal. \n",
    "\n",
    "Fees for B.Tech programs range from ₹1,20,000 to ₹1,80,000 per year, depending on the branch. Scholarships are available based on merit and need.\n",
    "\n",
    "Hostel accommodation is available with separate facilities for boys and girls. First-year students are given preference. \n",
    "\n",
    "For international students, a separate admission cell handles queries. Students must have equivalent qualifications and submit their transcripts.\n",
    "\n",
    "For more information, applicants can visit www.sastra.edu or contact the admission helpline at 1800-425-44455.\n",
    "\"\"\"\n"
   ]
  },
  {
   "cell_type": "code",
   "execution_count": 2,
   "id": "84bf2654-f14a-40d2-9f1b-c94aed0a55bc",
   "metadata": {},
   "outputs": [],
   "source": [
    "from transformers import BertForQuestionAnswering\n",
    "from transformers import BertTokenizer\n",
    "import torch"
   ]
  },
  {
   "cell_type": "code",
   "execution_count": 3,
   "id": "a5be0de8-7c86-454e-a583-e7d7235638f4",
   "metadata": {},
   "outputs": [],
   "source": [
    "model_name = \"bert-large-uncased-whole-word-masking-finetuned-squad\""
   ]
  },
  {
   "cell_type": "code",
   "execution_count": 4,
   "id": "656f5c7d-8f14-4868-9a76-d87460b2a47b",
   "metadata": {},
   "outputs": [
    {
     "name": "stderr",
     "output_type": "stream",
     "text": [
      "Some weights of the model checkpoint at bert-large-uncased-whole-word-masking-finetuned-squad were not used when initializing BertForQuestionAnswering: ['bert.pooler.dense.bias', 'bert.pooler.dense.weight']\n",
      "- This IS expected if you are initializing BertForQuestionAnswering from the checkpoint of a model trained on another task or with another architecture (e.g. initializing a BertForSequenceClassification model from a BertForPreTraining model).\n",
      "- This IS NOT expected if you are initializing BertForQuestionAnswering from the checkpoint of a model that you expect to be exactly identical (initializing a BertForSequenceClassification model from a BertForSequenceClassification model).\n"
     ]
    }
   ],
   "source": [
    "model = BertForQuestionAnswering.from_pretrained(model_name)"
   ]
  },
  {
   "cell_type": "code",
   "execution_count": 5,
   "id": "6db77614-b6f0-40f1-a958-6586d5d68a67",
   "metadata": {},
   "outputs": [],
   "source": [
    "tokenizer = BertTokenizer.from_pretrained(model_name)"
   ]
  },
  {
   "cell_type": "code",
   "execution_count": 6,
   "id": "ce64d055-1ad0-459c-a2bc-ef2fa57c0c9b",
   "metadata": {},
   "outputs": [],
   "source": [
    "context = college_admission_context"
   ]
  },
  {
   "cell_type": "code",
   "execution_count": 7,
   "id": "1256b9c9-089c-42c7-ab6e-f5e7473497b1",
   "metadata": {},
   "outputs": [],
   "source": [
    "def faq_bot(question):\n",
    "    input_ids = tokenizer.encode(question, context)\n",
    "    tokens = tokenizer.convert_ids_to_tokens(input_ids)\n",
    "    sep_id = input_ids.index(tokenizer.sep_token_id)\n",
    "    num_a = sep_id+1\n",
    "    num_b = len(input_ids) - num_a\n",
    "    segment_ids = [0]*num_a + [1]*num_b\n",
    "    output = model(torch.tensor([input_ids]), token_type_ids = torch.tensor([segment_ids]))\n",
    "    answer_st = torch.argmax(output.start_logits)\n",
    "    answer_end = torch.argmax(output.end_logits)\n",
    "    if(answer_end >= answer_st):\n",
    "        answer = ' '.join(tokens[answer_st:answer_end+1])\n",
    "    else:\n",
    "         print(\"I don't know how to answer this question, can you ask another one?\")\n",
    "    final_answer = \"\"\n",
    "    for word in answer.split():\n",
    "        if(word[:2] == '##'):\n",
    "            final_answer += word[2:]\n",
    "        else:\n",
    "            final_answer += ' '+ word\n",
    "    print(final_answer.strip())"
   ]
  },
  {
   "cell_type": "code",
   "execution_count": 8,
   "id": "91343d0f-baa7-47ce-a36b-45f3edb3dad1",
   "metadata": {},
   "outputs": [
    {
     "name": "stdout",
     "output_type": "stream",
     "text": [
      "based on jee main scores and + 2 marks\n"
     ]
    }
   ],
   "source": [
    "faq_bot(\"How are B.Tech admissions done at SASTRA University?\")"
   ]
  },
  {
   "cell_type": "code",
   "execution_count": 9,
   "id": "07ef30a6-a5da-4a2e-8723-80ae713d7f27",
   "metadata": {},
   "outputs": [
    {
     "name": "stdout",
     "output_type": "stream",
     "text": [
      "scholarships are available based on merit and need\n"
     ]
    }
   ],
   "source": [
    "faq_bot(\" Are there any scholarships available?\")"
   ]
  },
  {
   "cell_type": "code",
   "execution_count": 10,
   "id": "7da6699a-5790-4cd8-9daf-d40e75c37e08",
   "metadata": {},
   "outputs": [
    {
     "name": "stdout",
     "output_type": "stream",
     "text": [
      "online through the university ' s portal\n"
     ]
    }
   ],
   "source": [
    "faq_bot(\"How can I apply for admission to SASTRA University?\")"
   ]
  },
  {
   "cell_type": "code",
   "execution_count": 11,
   "id": "84e3f38e-e962-4045-b04b-9166b0957872",
   "metadata": {},
   "outputs": [
    {
     "name": "stdout",
     "output_type": "stream",
     "text": [
      "undergraduate , postgraduate , and doctoral\n"
     ]
    }
   ],
   "source": [
    "faq_bot(\"What programs does SASTRA University offer?\")"
   ]
  },
  {
   "cell_type": "code",
   "execution_count": 12,
   "id": "1577c84e-8f67-476a-a49b-2053ecc227b0",
   "metadata": {},
   "outputs": [
    {
     "name": "stdout",
     "output_type": "stream",
     "text": [
      "www . sastra . edu\n"
     ]
    }
   ],
   "source": [
    "faq_bot(\"Where can I get more information about the admissions?\")"
   ]
  },
  {
   "cell_type": "code",
   "execution_count": null,
   "id": "4a07b97e-1c9e-43dd-95af-0e19b606bf57",
   "metadata": {},
   "outputs": [],
   "source": []
  }
 ],
 "metadata": {
  "kernelspec": {
   "display_name": "Python 3 (ipykernel)",
   "language": "python",
   "name": "python3"
  },
  "language_info": {
   "codemirror_mode": {
    "name": "ipython",
    "version": 3
   },
   "file_extension": ".py",
   "mimetype": "text/x-python",
   "name": "python",
   "nbconvert_exporter": "python",
   "pygments_lexer": "ipython3",
   "version": "3.12.3"
  }
 },
 "nbformat": 4,
 "nbformat_minor": 5
}
